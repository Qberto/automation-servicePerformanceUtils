{
 "cells": [
  {
   "cell_type": "markdown",
   "metadata": {},
   "source": [
    "# Process: Scrape Server REST Endpoints and Measure Performance\n",
    "\n",
    "Organization: Esri\n",
    "\n",
    "Author: Alberto Nieto (anieto@esri.com)\n",
    "\n",
    "Date: 8/31/2018"
   ]
  },
  {
   "cell_type": "markdown",
   "metadata": {},
   "source": [
    "## Process Overview:\n",
    "\n",
    "1. Parse NTAD HTML to get the list of individual service URLs\n",
    "\n",
    "2. Iterate: For each service URL:\n",
    "\n",
    "    - Send an export request with specified URL params\n",
    "    - Measure total seconds for response\n",
    "\n",
    "3. Build report\n",
    "    - For each service, compile metrics"
   ]
  },
  {
   "cell_type": "code",
   "execution_count": 1,
   "metadata": {},
   "outputs": [],
   "source": [
    "import requests\n",
    "from bs4 import BeautifulSoup\n",
    "import pandas as pd\n",
    "import arcgis"
   ]
  },
  {
   "cell_type": "code",
   "execution_count": 2,
   "metadata": {},
   "outputs": [],
   "source": [
    "def build_services_list_from_rest_endpoint(rest_endpoint_url):\n",
    "    \n",
    "    page = requests.get(rest_endpoint_a)\n",
    "    soup = BeautifulSoup(page.content, 'html.parser')\n",
    "    \n",
    "    services_list = []\n",
    "    \n",
    "    for a in soup.find_all('a', href=True):\n",
    "        services_list.append(rest_endpoint_url+a['href'])\n",
    "    \n",
    "    return services_list"
   ]
  },
  {
   "cell_type": "code",
   "execution_count": 3,
   "metadata": {},
   "outputs": [],
   "source": [
    "def measure_response(url):\n",
    "    return requests.get(url).elapsed.total_seconds()"
   ]
  },
  {
   "cell_type": "code",
   "execution_count": 6,
   "metadata": {},
   "outputs": [],
   "source": [
    "t1_a_url = r\"https://maps.bts.dot.gov/services/rest/services/NTAD/North_American_Rail_Lines/MapServer\"\n",
    "t1_b_url = r\"https://geo.dot.gov/server/rest/services/NTAD/North_American_Rail_Lines/MapServer\"\n",
    "t1_c_url = r\"https://geo.dot.gov/server/rest/services/Railroad_Lines_DataStore_MapImage/MapServer\""
   ]
  },
  {
   "cell_type": "code",
   "execution_count": 7,
   "metadata": {},
   "outputs": [],
   "source": [
    "base_test_url_query = r\"/export?dpi=96&transparent=true&format=png8&bbox=-17696592.60548181%2C1556663.6270353035%2C-8229104.803719484%2C9486111.894215303&bboxSR=102100&imageSR=102100&size=1108%2C928&f=image\""
   ]
  },
  {
   "cell_type": "code",
   "execution_count": 8,
   "metadata": {},
   "outputs": [
    {
     "data": {
      "text/plain": [
       "18.155502"
      ]
     },
     "execution_count": 8,
     "metadata": {},
     "output_type": "execute_result"
    }
   ],
   "source": [
    "measure_response(t1_a_url+base_test_url_query)"
   ]
  },
  {
   "cell_type": "code",
   "execution_count": 9,
   "metadata": {},
   "outputs": [
    {
     "data": {
      "text/plain": [
       "327.317757"
      ]
     },
     "execution_count": 9,
     "metadata": {},
     "output_type": "execute_result"
    }
   ],
   "source": [
    "measure_response(t1_b_url+base_test_url_query)"
   ]
  },
  {
   "cell_type": "code",
   "execution_count": 12,
   "metadata": {},
   "outputs": [
    {
     "data": {
      "text/plain": [
       "0.347701"
      ]
     },
     "execution_count": 12,
     "metadata": {},
     "output_type": "execute_result"
    }
   ],
   "source": [
    "measure_response(t1_c_url+base_test_url_query)"
   ]
  },
  {
   "cell_type": "markdown",
   "metadata": {},
   "source": [
    "#### Iteration metrics gathering"
   ]
  },
  {
   "cell_type": "code",
   "execution_count": 25,
   "metadata": {},
   "outputs": [],
   "source": [
    "rest_endpoint_a = r\"https://maps.bts.dot.gov/services/rest/services/NTAD\"\n",
    "rest_endpoint_b = r\"https://geo.dot.gov/server/rest/services/NTAD\""
   ]
  },
  {
   "cell_type": "code",
   "execution_count": 39,
   "metadata": {},
   "outputs": [
    {
     "data": {
      "text/plain": [
       "<html lang=\"en\">\n",
       "<head>\n",
       "<title>Folder: NTAD</title>\n",
       "<link href=\"/services/rest/static/main.css\" rel=\"stylesheet\" type=\"text/css\"/>\n",
       "</head>\n",
       "<body>\n",
       "<table class=\"userTable\" width=\"100%\">\n",
       "<tr>\n",
       "<td class=\"titlecell\">\n",
       "ArcGIS REST Services Directory\n",
       "</td>\n",
       "<td align=\"right\">\n",
       "<a href=\"https://maps.bts.dot.gov/services/login?returnUrl=https://maps.bts.dot.gov/services/rest/services\">Login</a>\n",
       "</td>\n",
       "</tr>\n",
       "</table>\n",
       "<table class=\"navTable\" width=\"100%\">\n",
       "<tr valign=\"top\">\n",
       "<td class=\"breadcrumbs\">\n",
       "<a href=\"/services/rest/services\">Home</a>\n",
       "&gt; <a href=\"/services/rest/services\">services</a>\n",
       "&gt; <a href=\"/services/rest/services/NTAD\">NTAD</a>\n",
       "</td>\n",
       "<td align=\"right\">\n",
       "<a href=\"https://maps.bts.dot.gov/services/sdk/rest/02ss/02ss00000057000000.htm\" target=\"_blank\">Help</a> | <a href=\"https://maps.bts.dot.gov/services/rest/services/NTAD?f=help\" target=\"_blank\">API Reference</a>\n",
       "</td>\n",
       "</tr>\n",
       "</table>\n",
       "<table>\n",
       "<tr>\n",
       "<td class=\"apiref\">\n",
       "<a href=\"?f=pjson\" target=\"_blank\">JSON</a>\n",
       "| <a href=\"https://maps.bts.dot.gov/services/services/NTAD?wsdl\">SOAP</a>\n",
       "</td>\n",
       "</tr>\n",
       "</table>\n",
       "<h2>Folder: NTAD</h2>\n",
       "<div class=\"rbody\">\n",
       "<b>Current Version: </b>10.5\n",
       "<br/><br/>\n",
       "<b>View Footprints In:</b>\n",
       "  <a href=\"http://www.arcgis.com/home/webmap/viewer.html?featurecollection=https%3A%2F%2Fmaps.bts.dot.gov%2Fservices%2Frest%2Fservices%2FNTAD%3Ff%3Djson%26option%3Dfootprints&amp;supportsProjection=true&amp;supportsJSONP=true\" target=\"_blank\">ArcGIS Online map viewer</a>\n",
       "<br/><br/>\n",
       "<b>Services: </b>\n",
       "<ul>\n",
       "<li><a href=\"/services/rest/services/NTAD/Airports/MapServer\">NTAD/Airports</a> (MapServer)</li>\n",
       "<li><a href=\"/services/rest/services/NTAD/AlternativeFuelingStations/MapServer\">NTAD/AlternativeFuelingStations</a> (MapServer)</li>\n",
       "<li><a href=\"/services/rest/services/NTAD/Amtrak_Routes/MapServer\">NTAD/Amtrak_Routes</a> (MapServer)</li>\n",
       "<li><a href=\"/services/rest/services/NTAD/Amtrak_Stations/MapServer\">NTAD/Amtrak_Stations</a> (MapServer)</li>\n",
       "<li><a href=\"/services/rest/services/NTAD/Bikeshare/MapServer\">NTAD/Bikeshare</a> (MapServer)</li>\n",
       "<li><a href=\"/services/rest/services/NTAD/Congressional_Districts/MapServer\">NTAD/Congressional_Districts</a> (MapServer)</li>\n",
       "<li><a href=\"/services/rest/services/NTAD/CoreBasedStatisticalAreas/MapServer\">NTAD/CoreBasedStatisticalAreas</a> (MapServer)</li>\n",
       "<li><a href=\"/services/rest/services/NTAD/Counties/MapServer\">NTAD/Counties</a> (MapServer)</li>\n",
       "<li><a href=\"/services/rest/services/NTAD/Dams/MapServer\">NTAD/Dams</a> (MapServer)</li>\n",
       "<li><a href=\"/services/rest/services/NTAD/Fatality_Analysis_Reporting_System/MapServer\">NTAD/Fatality_Analysis_Reporting_System</a> (MapServer)</li>\n",
       "<li><a href=\"/services/rest/services/NTAD/Freight_Analysis_Framework_Network/MapServer\">NTAD/Freight_Analysis_Framework_Network</a> (MapServer)</li>\n",
       "<li><a href=\"/services/rest/services/NTAD/Freight_Analysis_Framework_Regions/MapServer\">NTAD/Freight_Analysis_Framework_Regions</a> (MapServer)</li>\n",
       "<li><a href=\"/services/rest/services/NTAD/Highway_Performance_Monitoring_System_Arterial/MapServer\">NTAD/Highway_Performance_Monitoring_System_Arterial</a> (MapServer)</li>\n",
       "<li><a href=\"/services/rest/services/NTAD/Highway_Performance_Monitoring_System_Freeways/MapServer\">NTAD/Highway_Performance_Monitoring_System_Freeways</a> (MapServer)</li>\n",
       "<li><a href=\"/services/rest/services/NTAD/Highway_Performance_Monitoring_System_Interstate/MapServer\">NTAD/Highway_Performance_Monitoring_System_Interstate</a> (MapServer)</li>\n",
       "<li><a href=\"/services/rest/services/NTAD/Highway_Performance_Monitoring_System_Major_Collector/MapServer\">NTAD/Highway_Performance_Monitoring_System_Major_Collector</a> (MapServer)</li>\n",
       "<li><a href=\"/services/rest/services/NTAD/Highway_Performance_Monitoring_System_Minor_Arterial/MapServer\">NTAD/Highway_Performance_Monitoring_System_Minor_Arterial</a> (MapServer)</li>\n",
       "<li><a href=\"/services/rest/services/NTAD/Highway_Performance_Monitoring_System_Minor_Collector/MapServer\">NTAD/Highway_Performance_Monitoring_System_Minor_Collector</a> (MapServer)</li>\n",
       "<li><a href=\"/services/rest/services/NTAD/Highway_Performance_Monitoring_System/MapServer\">NTAD/Highway_Performance_Monitoring_System</a> (MapServer)</li>\n",
       "<li><a href=\"/services/rest/services/NTAD/Intermodal_Passenger_Connectivity_Database_IPCD/MapServer\">NTAD/Intermodal_Passenger_Connectivity_Database_IPCD</a> (MapServer)</li>\n",
       "<li><a href=\"/services/rest/services/NTAD/Intermodal_Transit_Facilities_IPCD/MapServer\">NTAD/Intermodal_Transit_Facilities_IPCD</a> (MapServer)</li>\n",
       "<li><a href=\"/services/rest/services/NTAD/IntermodalFreightFacilities/MapServer\">NTAD/IntermodalFreightFacilities</a> (MapServer)</li>\n",
       "<li><a href=\"/services/rest/services/NTAD/Locks/MapServer\">NTAD/Locks</a> (MapServer)</li>\n",
       "<li><a href=\"/services/rest/services/NTAD/Marine_Highways/MapServer\">NTAD/Marine_Highways</a> (MapServer)</li>\n",
       "<li><a href=\"/services/rest/services/NTAD/MetropolitanPlanningOrganizations/MapServer\">NTAD/MetropolitanPlanningOrganizations</a> (MapServer)</li>\n",
       "<li><a href=\"/services/rest/services/NTAD/MilitaryBases/MapServer\">NTAD/MilitaryBases</a> (MapServer)</li>\n",
       "<li><a href=\"/services/rest/services/NTAD/National_Bridge_Inventory/MapServer\">NTAD/National_Bridge_Inventory</a> (MapServer)</li>\n",
       "<li><a href=\"/services/rest/services/NTAD/National_Highway_Planning_Network/MapServer\">NTAD/National_Highway_Planning_Network</a> (MapServer)</li>\n",
       "<li><a href=\"/services/rest/services/NTAD/NationalParks/MapServer\">NTAD/NationalParks</a> (MapServer)</li>\n",
       "<li><a href=\"/services/rest/services/NTAD/Navigable_Waterway_Lines/MapServer\">NTAD/Navigable_Waterway_Lines</a> (MapServer)</li>\n",
       "<li><a href=\"/services/rest/services/NTAD/Navigable_Waterway_Nodes/MapServer\">NTAD/Navigable_Waterway_Nodes</a> (MapServer)</li>\n",
       "<li><a href=\"/services/rest/services/NTAD/NonAttainmentArea1HourOzone_1979/MapServer\">NTAD/NonAttainmentArea1HourOzone_1979</a> (MapServer)</li>\n",
       "<li><a href=\"/services/rest/services/NTAD/NonAttainmentArea1HourOzone_1990/MapServer\">NTAD/NonAttainmentArea1HourOzone_1990</a> (MapServer)</li>\n",
       "<li><a href=\"/services/rest/services/NTAD/NonAttainmentArea8HourOzone_1997/MapServer\">NTAD/NonAttainmentArea8HourOzone_1997</a> (MapServer)</li>\n",
       "<li><a href=\"/services/rest/services/NTAD/NonAttainmentArea8HourOzone_2008/MapServer\">NTAD/NonAttainmentArea8HourOzone_2008</a> (MapServer)</li>\n",
       "<li><a href=\"/services/rest/services/NTAD/NonAttainmentAreaCO1971/MapServer\">NTAD/NonAttainmentAreaCO1971</a> (MapServer)</li>\n",
       "<li><a href=\"/services/rest/services/NTAD/NonAttainmentAreaCO1990/MapServer\">NTAD/NonAttainmentAreaCO1990</a> (MapServer)</li>\n",
       "<li><a href=\"/services/rest/services/NTAD/NonAttainmentAreaNO2_1971/MapServer\">NTAD/NonAttainmentAreaNO2_1971</a> (MapServer)</li>\n",
       "<li><a href=\"/services/rest/services/NTAD/NonAttainmentAreaNO2_1990/MapServer\">NTAD/NonAttainmentAreaNO2_1990</a> (MapServer)</li>\n",
       "<li><a href=\"/services/rest/services/NTAD/NonAttainmentAreaPB1978/MapServer\">NTAD/NonAttainmentAreaPB1978</a> (MapServer)</li>\n",
       "<li><a href=\"/services/rest/services/NTAD/NonAttainmentAreaPb_2008/MapServer\">NTAD/NonAttainmentAreaPb_2008</a> (MapServer)</li>\n",
       "<li><a href=\"/services/rest/services/NTAD/NonAttainmentAreaPM10_1987/MapServer\">NTAD/NonAttainmentAreaPM10_1987</a> (MapServer)</li>\n",
       "<li><a href=\"/services/rest/services/NTAD/NonAttainmentAreaPM10_1990/MapServer\">NTAD/NonAttainmentAreaPM10_1990</a> (MapServer)</li>\n",
       "<li><a href=\"/services/rest/services/NTAD/NonAttainmentAreaPM25_2012/MapServer\">NTAD/NonAttainmentAreaPM25_2012</a> (MapServer)</li>\n",
       "<li><a href=\"/services/rest/services/NTAD/NonAttainmentAreaPM25_24Hr_2006/MapServer\">NTAD/NonAttainmentAreaPM25_24Hr_2006</a> (MapServer)</li>\n",
       "<li><a href=\"/services/rest/services/NTAD/NonAttainmentAreaPM25_Annual_1997/MapServer\">NTAD/NonAttainmentAreaPM25_Annual_1997</a> (MapServer)</li>\n",
       "<li><a href=\"/services/rest/services/NTAD/NonAttainmentAreaSO2_1971/MapServer\">NTAD/NonAttainmentAreaSO2_1971</a> (MapServer)</li>\n",
       "<li><a href=\"/services/rest/services/NTAD/NonAttainmentAreaSO2_1978/MapServer\">NTAD/NonAttainmentAreaSO2_1978</a> (MapServer)</li>\n",
       "<li><a href=\"/services/rest/services/NTAD/NonAttainmentAreaSO2_2010/MapServer\">NTAD/NonAttainmentAreaSO2_2010</a> (MapServer)</li>\n",
       "<li><a href=\"/services/rest/services/NTAD/North_American_Rail_Lines/MapServer\">NTAD/North_American_Rail_Lines</a> (MapServer)</li>\n",
       "<li><a href=\"/services/rest/services/NTAD/North_Americanrail_Nodes/MapServer\">NTAD/North_Americanrail_Nodes</a> (MapServer)</li>\n",
       "<li><a href=\"/services/rest/services/NTAD/Populated_Places/MapServer\">NTAD/Populated_Places</a> (MapServer)</li>\n",
       "<li><a href=\"/services/rest/services/NTAD/Ports_Major/MapServer\">NTAD/Ports_Major</a> (MapServer)</li>\n",
       "<li><a href=\"/services/rest/services/NTAD/Ports/MapServer\">NTAD/Ports</a> (MapServer)</li>\n",
       "<li><a href=\"/services/rest/services/NTAD/Railroad_Crossings/MapServer\">NTAD/Railroad_Crossings</a> (MapServer)</li>\n",
       "<li><a href=\"/services/rest/services/NTAD/Railroad_Lines/MapServer\">NTAD/Railroad_Lines</a> (MapServer)</li>\n",
       "<li><a href=\"/services/rest/services/NTAD/Railroad_Nodes/MapServer\">NTAD/Railroad_Nodes</a> (MapServer)</li>\n",
       "<li><a href=\"/services/rest/services/NTAD/Runway_Ends/MapServer\">NTAD/Runway_Ends</a> (MapServer)</li>\n",
       "<li><a href=\"/services/rest/services/NTAD/Runways/MapServer\">NTAD/Runways</a> (MapServer)</li>\n",
       "<li><a href=\"/services/rest/services/NTAD/States/MapServer\">NTAD/States</a> (MapServer)</li>\n",
       "<li><a href=\"/services/rest/services/NTAD/Strategic_Ports/MapServer\">NTAD/Strategic_Ports</a> (MapServer)</li>\n",
       "<li><a href=\"/services/rest/services/NTAD/Transit_Network/MapServer\">NTAD/Transit_Network</a> (MapServer)</li>\n",
       "<li><a href=\"/services/rest/services/NTAD/Transit_Stations/MapServer\">NTAD/Transit_Stations</a> (MapServer)</li>\n",
       "<li><a href=\"/services/rest/services/NTAD/Travel_Monitoring_Analysis_System/MapServer\">NTAD/Travel_Monitoring_Analysis_System</a> (MapServer)</li>\n",
       "<li><a href=\"/services/rest/services/NTAD/Truck_Stop_Parking/MapServer\">NTAD/Truck_Stop_Parking</a> (MapServer)</li>\n",
       "<li><a href=\"/services/rest/services/NTAD/Urbanized_Areas/MapServer\">NTAD/Urbanized_Areas</a> (MapServer)</li>\n",
       "</ul>\n",
       "<br/><br/>\n",
       "<b>Supported Interfaces:</b>\n",
       "  <a href=\"https://maps.bts.dot.gov/services/rest/services/NTAD?f=pjson\" target=\"_blank\">REST</a>\n",
       "  <a href=\"https://maps.bts.dot.gov/services/services?wsdl\" target=\"_blank\">SOAP</a>\n",
       "  <a href=\"https://maps.bts.dot.gov/services/rest/services/NTAD?f=sitemap\" target=\"_blank\">Sitemap</a>\n",
       "  <a href=\"https://maps.bts.dot.gov/services/rest/services/NTAD?f=geositemap\" target=\"_blank\">Geo Sitemap</a>\n",
       "<br/><br/>\n",
       "</div>\n",
       "<br/><br/>\n",
       "</body>\n",
       "</html>"
      ]
     },
     "execution_count": 39,
     "metadata": {},
     "output_type": "execute_result"
    }
   ],
   "source": [
    "page = requests.get(rest_endpoint_a)\n",
    "soup = BeautifulSoup(page.content, 'html.parser')\n",
    "soup"
   ]
  },
  {
   "cell_type": "code",
   "execution_count": 38,
   "metadata": {
    "scrolled": true
   },
   "outputs": [
    {
     "data": {
      "text/plain": [
       "[<a href=\"https://maps.bts.dot.gov/services/login?returnUrl=https://maps.bts.dot.gov/services/rest/services\">Login</a>,\n",
       " <a href=\"/services/rest/services\">Home</a>,\n",
       " <a href=\"/services/rest/services\">services</a>,\n",
       " <a href=\"/services/rest/services/NTAD\">NTAD</a>,\n",
       " <a href=\"https://maps.bts.dot.gov/services/sdk/rest/02ss/02ss00000057000000.htm\" target=\"_blank\">Help</a>,\n",
       " <a href=\"https://maps.bts.dot.gov/services/rest/services/NTAD?f=help\" target=\"_blank\">API Reference</a>,\n",
       " <a href=\"?f=pjson\" target=\"_blank\">JSON</a>,\n",
       " <a href=\"https://maps.bts.dot.gov/services/services/NTAD?wsdl\">SOAP</a>,\n",
       " <a href=\"http://www.arcgis.com/home/webmap/viewer.html?featurecollection=https%3A%2F%2Fmaps.bts.dot.gov%2Fservices%2Frest%2Fservices%2FNTAD%3Ff%3Djson%26option%3Dfootprints&amp;supportsProjection=true&amp;supportsJSONP=true\" target=\"_blank\">ArcGIS Online map viewer</a>,\n",
       " <a href=\"/services/rest/services/NTAD/Airports/MapServer\">NTAD/Airports</a>,\n",
       " <a href=\"/services/rest/services/NTAD/AlternativeFuelingStations/MapServer\">NTAD/AlternativeFuelingStations</a>,\n",
       " <a href=\"/services/rest/services/NTAD/Amtrak_Routes/MapServer\">NTAD/Amtrak_Routes</a>,\n",
       " <a href=\"/services/rest/services/NTAD/Amtrak_Stations/MapServer\">NTAD/Amtrak_Stations</a>,\n",
       " <a href=\"/services/rest/services/NTAD/Bikeshare/MapServer\">NTAD/Bikeshare</a>,\n",
       " <a href=\"/services/rest/services/NTAD/Congressional_Districts/MapServer\">NTAD/Congressional_Districts</a>,\n",
       " <a href=\"/services/rest/services/NTAD/CoreBasedStatisticalAreas/MapServer\">NTAD/CoreBasedStatisticalAreas</a>,\n",
       " <a href=\"/services/rest/services/NTAD/Counties/MapServer\">NTAD/Counties</a>,\n",
       " <a href=\"/services/rest/services/NTAD/Dams/MapServer\">NTAD/Dams</a>,\n",
       " <a href=\"/services/rest/services/NTAD/Fatality_Analysis_Reporting_System/MapServer\">NTAD/Fatality_Analysis_Reporting_System</a>,\n",
       " <a href=\"/services/rest/services/NTAD/Freight_Analysis_Framework_Network/MapServer\">NTAD/Freight_Analysis_Framework_Network</a>,\n",
       " <a href=\"/services/rest/services/NTAD/Freight_Analysis_Framework_Regions/MapServer\">NTAD/Freight_Analysis_Framework_Regions</a>,\n",
       " <a href=\"/services/rest/services/NTAD/Highway_Performance_Monitoring_System_Arterial/MapServer\">NTAD/Highway_Performance_Monitoring_System_Arterial</a>,\n",
       " <a href=\"/services/rest/services/NTAD/Highway_Performance_Monitoring_System_Freeways/MapServer\">NTAD/Highway_Performance_Monitoring_System_Freeways</a>,\n",
       " <a href=\"/services/rest/services/NTAD/Highway_Performance_Monitoring_System_Interstate/MapServer\">NTAD/Highway_Performance_Monitoring_System_Interstate</a>,\n",
       " <a href=\"/services/rest/services/NTAD/Highway_Performance_Monitoring_System_Major_Collector/MapServer\">NTAD/Highway_Performance_Monitoring_System_Major_Collector</a>,\n",
       " <a href=\"/services/rest/services/NTAD/Highway_Performance_Monitoring_System_Minor_Arterial/MapServer\">NTAD/Highway_Performance_Monitoring_System_Minor_Arterial</a>,\n",
       " <a href=\"/services/rest/services/NTAD/Highway_Performance_Monitoring_System_Minor_Collector/MapServer\">NTAD/Highway_Performance_Monitoring_System_Minor_Collector</a>,\n",
       " <a href=\"/services/rest/services/NTAD/Highway_Performance_Monitoring_System/MapServer\">NTAD/Highway_Performance_Monitoring_System</a>,\n",
       " <a href=\"/services/rest/services/NTAD/Intermodal_Passenger_Connectivity_Database_IPCD/MapServer\">NTAD/Intermodal_Passenger_Connectivity_Database_IPCD</a>,\n",
       " <a href=\"/services/rest/services/NTAD/Intermodal_Transit_Facilities_IPCD/MapServer\">NTAD/Intermodal_Transit_Facilities_IPCD</a>,\n",
       " <a href=\"/services/rest/services/NTAD/IntermodalFreightFacilities/MapServer\">NTAD/IntermodalFreightFacilities</a>,\n",
       " <a href=\"/services/rest/services/NTAD/Locks/MapServer\">NTAD/Locks</a>,\n",
       " <a href=\"/services/rest/services/NTAD/Marine_Highways/MapServer\">NTAD/Marine_Highways</a>,\n",
       " <a href=\"/services/rest/services/NTAD/MetropolitanPlanningOrganizations/MapServer\">NTAD/MetropolitanPlanningOrganizations</a>,\n",
       " <a href=\"/services/rest/services/NTAD/MilitaryBases/MapServer\">NTAD/MilitaryBases</a>,\n",
       " <a href=\"/services/rest/services/NTAD/National_Bridge_Inventory/MapServer\">NTAD/National_Bridge_Inventory</a>,\n",
       " <a href=\"/services/rest/services/NTAD/National_Highway_Planning_Network/MapServer\">NTAD/National_Highway_Planning_Network</a>,\n",
       " <a href=\"/services/rest/services/NTAD/NationalParks/MapServer\">NTAD/NationalParks</a>,\n",
       " <a href=\"/services/rest/services/NTAD/Navigable_Waterway_Lines/MapServer\">NTAD/Navigable_Waterway_Lines</a>,\n",
       " <a href=\"/services/rest/services/NTAD/Navigable_Waterway_Nodes/MapServer\">NTAD/Navigable_Waterway_Nodes</a>,\n",
       " <a href=\"/services/rest/services/NTAD/NonAttainmentArea1HourOzone_1979/MapServer\">NTAD/NonAttainmentArea1HourOzone_1979</a>,\n",
       " <a href=\"/services/rest/services/NTAD/NonAttainmentArea1HourOzone_1990/MapServer\">NTAD/NonAttainmentArea1HourOzone_1990</a>,\n",
       " <a href=\"/services/rest/services/NTAD/NonAttainmentArea8HourOzone_1997/MapServer\">NTAD/NonAttainmentArea8HourOzone_1997</a>,\n",
       " <a href=\"/services/rest/services/NTAD/NonAttainmentArea8HourOzone_2008/MapServer\">NTAD/NonAttainmentArea8HourOzone_2008</a>,\n",
       " <a href=\"/services/rest/services/NTAD/NonAttainmentAreaCO1971/MapServer\">NTAD/NonAttainmentAreaCO1971</a>,\n",
       " <a href=\"/services/rest/services/NTAD/NonAttainmentAreaCO1990/MapServer\">NTAD/NonAttainmentAreaCO1990</a>,\n",
       " <a href=\"/services/rest/services/NTAD/NonAttainmentAreaNO2_1971/MapServer\">NTAD/NonAttainmentAreaNO2_1971</a>,\n",
       " <a href=\"/services/rest/services/NTAD/NonAttainmentAreaNO2_1990/MapServer\">NTAD/NonAttainmentAreaNO2_1990</a>,\n",
       " <a href=\"/services/rest/services/NTAD/NonAttainmentAreaPB1978/MapServer\">NTAD/NonAttainmentAreaPB1978</a>,\n",
       " <a href=\"/services/rest/services/NTAD/NonAttainmentAreaPb_2008/MapServer\">NTAD/NonAttainmentAreaPb_2008</a>,\n",
       " <a href=\"/services/rest/services/NTAD/NonAttainmentAreaPM10_1987/MapServer\">NTAD/NonAttainmentAreaPM10_1987</a>,\n",
       " <a href=\"/services/rest/services/NTAD/NonAttainmentAreaPM10_1990/MapServer\">NTAD/NonAttainmentAreaPM10_1990</a>,\n",
       " <a href=\"/services/rest/services/NTAD/NonAttainmentAreaPM25_2012/MapServer\">NTAD/NonAttainmentAreaPM25_2012</a>,\n",
       " <a href=\"/services/rest/services/NTAD/NonAttainmentAreaPM25_24Hr_2006/MapServer\">NTAD/NonAttainmentAreaPM25_24Hr_2006</a>,\n",
       " <a href=\"/services/rest/services/NTAD/NonAttainmentAreaPM25_Annual_1997/MapServer\">NTAD/NonAttainmentAreaPM25_Annual_1997</a>,\n",
       " <a href=\"/services/rest/services/NTAD/NonAttainmentAreaSO2_1971/MapServer\">NTAD/NonAttainmentAreaSO2_1971</a>,\n",
       " <a href=\"/services/rest/services/NTAD/NonAttainmentAreaSO2_1978/MapServer\">NTAD/NonAttainmentAreaSO2_1978</a>,\n",
       " <a href=\"/services/rest/services/NTAD/NonAttainmentAreaSO2_2010/MapServer\">NTAD/NonAttainmentAreaSO2_2010</a>,\n",
       " <a href=\"/services/rest/services/NTAD/North_American_Rail_Lines/MapServer\">NTAD/North_American_Rail_Lines</a>,\n",
       " <a href=\"/services/rest/services/NTAD/North_Americanrail_Nodes/MapServer\">NTAD/North_Americanrail_Nodes</a>,\n",
       " <a href=\"/services/rest/services/NTAD/Populated_Places/MapServer\">NTAD/Populated_Places</a>,\n",
       " <a href=\"/services/rest/services/NTAD/Ports_Major/MapServer\">NTAD/Ports_Major</a>,\n",
       " <a href=\"/services/rest/services/NTAD/Ports/MapServer\">NTAD/Ports</a>,\n",
       " <a href=\"/services/rest/services/NTAD/Railroad_Crossings/MapServer\">NTAD/Railroad_Crossings</a>,\n",
       " <a href=\"/services/rest/services/NTAD/Railroad_Lines/MapServer\">NTAD/Railroad_Lines</a>,\n",
       " <a href=\"/services/rest/services/NTAD/Railroad_Nodes/MapServer\">NTAD/Railroad_Nodes</a>,\n",
       " <a href=\"/services/rest/services/NTAD/Runway_Ends/MapServer\">NTAD/Runway_Ends</a>,\n",
       " <a href=\"/services/rest/services/NTAD/Runways/MapServer\">NTAD/Runways</a>,\n",
       " <a href=\"/services/rest/services/NTAD/States/MapServer\">NTAD/States</a>,\n",
       " <a href=\"/services/rest/services/NTAD/Strategic_Ports/MapServer\">NTAD/Strategic_Ports</a>,\n",
       " <a href=\"/services/rest/services/NTAD/Transit_Network/MapServer\">NTAD/Transit_Network</a>,\n",
       " <a href=\"/services/rest/services/NTAD/Transit_Stations/MapServer\">NTAD/Transit_Stations</a>,\n",
       " <a href=\"/services/rest/services/NTAD/Travel_Monitoring_Analysis_System/MapServer\">NTAD/Travel_Monitoring_Analysis_System</a>,\n",
       " <a href=\"/services/rest/services/NTAD/Truck_Stop_Parking/MapServer\">NTAD/Truck_Stop_Parking</a>,\n",
       " <a href=\"/services/rest/services/NTAD/Urbanized_Areas/MapServer\">NTAD/Urbanized_Areas</a>,\n",
       " <a href=\"https://maps.bts.dot.gov/services/rest/services/NTAD?f=pjson\" target=\"_blank\">REST</a>,\n",
       " <a href=\"https://maps.bts.dot.gov/services/services?wsdl\" target=\"_blank\">SOAP</a>,\n",
       " <a href=\"https://maps.bts.dot.gov/services/rest/services/NTAD?f=sitemap\" target=\"_blank\">Sitemap</a>,\n",
       " <a href=\"https://maps.bts.dot.gov/services/rest/services/NTAD?f=geositemap\" target=\"_blank\">Geo Sitemap</a>]"
      ]
     },
     "execution_count": 38,
     "metadata": {},
     "output_type": "execute_result"
    }
   ],
   "source": [
    "list(soup.find_all('a', href=True))"
   ]
  },
  {
   "cell_type": "code",
   "execution_count": 37,
   "metadata": {
    "scrolled": true
   },
   "outputs": [
    {
     "name": "stdout",
     "output_type": "stream",
     "text": [
      "Found the URL: https://maps.bts.dot.gov/services/login?returnUrl=https://maps.bts.dot.gov/services/rest/services\n",
      "Found the URL: /services/rest/services\n",
      "Found the URL: /services/rest/services\n",
      "Found the URL: /services/rest/services/NTAD\n",
      "Found the URL: https://maps.bts.dot.gov/services/sdk/rest/02ss/02ss00000057000000.htm\n",
      "Found the URL: https://maps.bts.dot.gov/services/rest/services/NTAD?f=help\n",
      "Found the URL: ?f=pjson\n",
      "Found the URL: https://maps.bts.dot.gov/services/services/NTAD?wsdl\n",
      "Found the URL: http://www.arcgis.com/home/webmap/viewer.html?featurecollection=https%3A%2F%2Fmaps.bts.dot.gov%2Fservices%2Frest%2Fservices%2FNTAD%3Ff%3Djson%26option%3Dfootprints&supportsProjection=true&supportsJSONP=true\n",
      "Found the URL: /services/rest/services/NTAD/Airports/MapServer\n",
      "Found the URL: /services/rest/services/NTAD/AlternativeFuelingStations/MapServer\n",
      "Found the URL: /services/rest/services/NTAD/Amtrak_Routes/MapServer\n",
      "Found the URL: /services/rest/services/NTAD/Amtrak_Stations/MapServer\n",
      "Found the URL: /services/rest/services/NTAD/Bikeshare/MapServer\n",
      "Found the URL: /services/rest/services/NTAD/Congressional_Districts/MapServer\n",
      "Found the URL: /services/rest/services/NTAD/CoreBasedStatisticalAreas/MapServer\n",
      "Found the URL: /services/rest/services/NTAD/Counties/MapServer\n",
      "Found the URL: /services/rest/services/NTAD/Dams/MapServer\n",
      "Found the URL: /services/rest/services/NTAD/Fatality_Analysis_Reporting_System/MapServer\n",
      "Found the URL: /services/rest/services/NTAD/Freight_Analysis_Framework_Network/MapServer\n",
      "Found the URL: /services/rest/services/NTAD/Freight_Analysis_Framework_Regions/MapServer\n",
      "Found the URL: /services/rest/services/NTAD/Highway_Performance_Monitoring_System_Arterial/MapServer\n",
      "Found the URL: /services/rest/services/NTAD/Highway_Performance_Monitoring_System_Freeways/MapServer\n",
      "Found the URL: /services/rest/services/NTAD/Highway_Performance_Monitoring_System_Interstate/MapServer\n",
      "Found the URL: /services/rest/services/NTAD/Highway_Performance_Monitoring_System_Major_Collector/MapServer\n",
      "Found the URL: /services/rest/services/NTAD/Highway_Performance_Monitoring_System_Minor_Arterial/MapServer\n",
      "Found the URL: /services/rest/services/NTAD/Highway_Performance_Monitoring_System_Minor_Collector/MapServer\n",
      "Found the URL: /services/rest/services/NTAD/Highway_Performance_Monitoring_System/MapServer\n",
      "Found the URL: /services/rest/services/NTAD/Intermodal_Passenger_Connectivity_Database_IPCD/MapServer\n",
      "Found the URL: /services/rest/services/NTAD/Intermodal_Transit_Facilities_IPCD/MapServer\n",
      "Found the URL: /services/rest/services/NTAD/IntermodalFreightFacilities/MapServer\n",
      "Found the URL: /services/rest/services/NTAD/Locks/MapServer\n",
      "Found the URL: /services/rest/services/NTAD/Marine_Highways/MapServer\n",
      "Found the URL: /services/rest/services/NTAD/MetropolitanPlanningOrganizations/MapServer\n",
      "Found the URL: /services/rest/services/NTAD/MilitaryBases/MapServer\n",
      "Found the URL: /services/rest/services/NTAD/National_Bridge_Inventory/MapServer\n",
      "Found the URL: /services/rest/services/NTAD/National_Highway_Planning_Network/MapServer\n",
      "Found the URL: /services/rest/services/NTAD/NationalParks/MapServer\n",
      "Found the URL: /services/rest/services/NTAD/Navigable_Waterway_Lines/MapServer\n",
      "Found the URL: /services/rest/services/NTAD/Navigable_Waterway_Nodes/MapServer\n",
      "Found the URL: /services/rest/services/NTAD/NonAttainmentArea1HourOzone_1979/MapServer\n",
      "Found the URL: /services/rest/services/NTAD/NonAttainmentArea1HourOzone_1990/MapServer\n",
      "Found the URL: /services/rest/services/NTAD/NonAttainmentArea8HourOzone_1997/MapServer\n",
      "Found the URL: /services/rest/services/NTAD/NonAttainmentArea8HourOzone_2008/MapServer\n",
      "Found the URL: /services/rest/services/NTAD/NonAttainmentAreaCO1971/MapServer\n",
      "Found the URL: /services/rest/services/NTAD/NonAttainmentAreaCO1990/MapServer\n",
      "Found the URL: /services/rest/services/NTAD/NonAttainmentAreaNO2_1971/MapServer\n",
      "Found the URL: /services/rest/services/NTAD/NonAttainmentAreaNO2_1990/MapServer\n",
      "Found the URL: /services/rest/services/NTAD/NonAttainmentAreaPB1978/MapServer\n",
      "Found the URL: /services/rest/services/NTAD/NonAttainmentAreaPb_2008/MapServer\n",
      "Found the URL: /services/rest/services/NTAD/NonAttainmentAreaPM10_1987/MapServer\n",
      "Found the URL: /services/rest/services/NTAD/NonAttainmentAreaPM10_1990/MapServer\n",
      "Found the URL: /services/rest/services/NTAD/NonAttainmentAreaPM25_2012/MapServer\n",
      "Found the URL: /services/rest/services/NTAD/NonAttainmentAreaPM25_24Hr_2006/MapServer\n",
      "Found the URL: /services/rest/services/NTAD/NonAttainmentAreaPM25_Annual_1997/MapServer\n",
      "Found the URL: /services/rest/services/NTAD/NonAttainmentAreaSO2_1971/MapServer\n",
      "Found the URL: /services/rest/services/NTAD/NonAttainmentAreaSO2_1978/MapServer\n",
      "Found the URL: /services/rest/services/NTAD/NonAttainmentAreaSO2_2010/MapServer\n",
      "Found the URL: /services/rest/services/NTAD/North_American_Rail_Lines/MapServer\n",
      "Found the URL: /services/rest/services/NTAD/North_Americanrail_Nodes/MapServer\n",
      "Found the URL: /services/rest/services/NTAD/Populated_Places/MapServer\n",
      "Found the URL: /services/rest/services/NTAD/Ports_Major/MapServer\n",
      "Found the URL: /services/rest/services/NTAD/Ports/MapServer\n",
      "Found the URL: /services/rest/services/NTAD/Railroad_Crossings/MapServer\n",
      "Found the URL: /services/rest/services/NTAD/Railroad_Lines/MapServer\n",
      "Found the URL: /services/rest/services/NTAD/Railroad_Nodes/MapServer\n",
      "Found the URL: /services/rest/services/NTAD/Runway_Ends/MapServer\n",
      "Found the URL: /services/rest/services/NTAD/Runways/MapServer\n",
      "Found the URL: /services/rest/services/NTAD/States/MapServer\n",
      "Found the URL: /services/rest/services/NTAD/Strategic_Ports/MapServer\n",
      "Found the URL: /services/rest/services/NTAD/Transit_Network/MapServer\n",
      "Found the URL: /services/rest/services/NTAD/Transit_Stations/MapServer\n",
      "Found the URL: /services/rest/services/NTAD/Travel_Monitoring_Analysis_System/MapServer\n",
      "Found the URL: /services/rest/services/NTAD/Truck_Stop_Parking/MapServer\n",
      "Found the URL: /services/rest/services/NTAD/Urbanized_Areas/MapServer\n",
      "Found the URL: https://maps.bts.dot.gov/services/rest/services/NTAD?f=pjson\n",
      "Found the URL: https://maps.bts.dot.gov/services/services?wsdl\n",
      "Found the URL: https://maps.bts.dot.gov/services/rest/services/NTAD?f=sitemap\n",
      "Found the URL: https://maps.bts.dot.gov/services/rest/services/NTAD?f=geositemap\n"
     ]
    }
   ],
   "source": [
    "for a in soup.find_all('a', href=True):\n",
    "    print(\"Found the URL:\", a['href'])"
   ]
  },
  {
   "cell_type": "code",
   "execution_count": 42,
   "metadata": {},
   "outputs": [
    {
     "data": {
      "text/plain": [
       "[<li><a href=\"/services/rest/services/NTAD/Airports/MapServer\">NTAD/Airports</a> (MapServer)</li>,\n",
       " <li><a href=\"/services/rest/services/NTAD/AlternativeFuelingStations/MapServer\">NTAD/AlternativeFuelingStations</a> (MapServer)</li>,\n",
       " <li><a href=\"/services/rest/services/NTAD/Amtrak_Routes/MapServer\">NTAD/Amtrak_Routes</a> (MapServer)</li>,\n",
       " <li><a href=\"/services/rest/services/NTAD/Amtrak_Stations/MapServer\">NTAD/Amtrak_Stations</a> (MapServer)</li>,\n",
       " <li><a href=\"/services/rest/services/NTAD/Bikeshare/MapServer\">NTAD/Bikeshare</a> (MapServer)</li>,\n",
       " <li><a href=\"/services/rest/services/NTAD/Congressional_Districts/MapServer\">NTAD/Congressional_Districts</a> (MapServer)</li>,\n",
       " <li><a href=\"/services/rest/services/NTAD/CoreBasedStatisticalAreas/MapServer\">NTAD/CoreBasedStatisticalAreas</a> (MapServer)</li>,\n",
       " <li><a href=\"/services/rest/services/NTAD/Counties/MapServer\">NTAD/Counties</a> (MapServer)</li>,\n",
       " <li><a href=\"/services/rest/services/NTAD/Dams/MapServer\">NTAD/Dams</a> (MapServer)</li>,\n",
       " <li><a href=\"/services/rest/services/NTAD/Fatality_Analysis_Reporting_System/MapServer\">NTAD/Fatality_Analysis_Reporting_System</a> (MapServer)</li>,\n",
       " <li><a href=\"/services/rest/services/NTAD/Freight_Analysis_Framework_Network/MapServer\">NTAD/Freight_Analysis_Framework_Network</a> (MapServer)</li>,\n",
       " <li><a href=\"/services/rest/services/NTAD/Freight_Analysis_Framework_Regions/MapServer\">NTAD/Freight_Analysis_Framework_Regions</a> (MapServer)</li>,\n",
       " <li><a href=\"/services/rest/services/NTAD/Highway_Performance_Monitoring_System_Arterial/MapServer\">NTAD/Highway_Performance_Monitoring_System_Arterial</a> (MapServer)</li>,\n",
       " <li><a href=\"/services/rest/services/NTAD/Highway_Performance_Monitoring_System_Freeways/MapServer\">NTAD/Highway_Performance_Monitoring_System_Freeways</a> (MapServer)</li>,\n",
       " <li><a href=\"/services/rest/services/NTAD/Highway_Performance_Monitoring_System_Interstate/MapServer\">NTAD/Highway_Performance_Monitoring_System_Interstate</a> (MapServer)</li>,\n",
       " <li><a href=\"/services/rest/services/NTAD/Highway_Performance_Monitoring_System_Major_Collector/MapServer\">NTAD/Highway_Performance_Monitoring_System_Major_Collector</a> (MapServer)</li>,\n",
       " <li><a href=\"/services/rest/services/NTAD/Highway_Performance_Monitoring_System_Minor_Arterial/MapServer\">NTAD/Highway_Performance_Monitoring_System_Minor_Arterial</a> (MapServer)</li>,\n",
       " <li><a href=\"/services/rest/services/NTAD/Highway_Performance_Monitoring_System_Minor_Collector/MapServer\">NTAD/Highway_Performance_Monitoring_System_Minor_Collector</a> (MapServer)</li>,\n",
       " <li><a href=\"/services/rest/services/NTAD/Highway_Performance_Monitoring_System/MapServer\">NTAD/Highway_Performance_Monitoring_System</a> (MapServer)</li>,\n",
       " <li><a href=\"/services/rest/services/NTAD/Intermodal_Passenger_Connectivity_Database_IPCD/MapServer\">NTAD/Intermodal_Passenger_Connectivity_Database_IPCD</a> (MapServer)</li>,\n",
       " <li><a href=\"/services/rest/services/NTAD/Intermodal_Transit_Facilities_IPCD/MapServer\">NTAD/Intermodal_Transit_Facilities_IPCD</a> (MapServer)</li>,\n",
       " <li><a href=\"/services/rest/services/NTAD/IntermodalFreightFacilities/MapServer\">NTAD/IntermodalFreightFacilities</a> (MapServer)</li>,\n",
       " <li><a href=\"/services/rest/services/NTAD/Locks/MapServer\">NTAD/Locks</a> (MapServer)</li>,\n",
       " <li><a href=\"/services/rest/services/NTAD/Marine_Highways/MapServer\">NTAD/Marine_Highways</a> (MapServer)</li>,\n",
       " <li><a href=\"/services/rest/services/NTAD/MetropolitanPlanningOrganizations/MapServer\">NTAD/MetropolitanPlanningOrganizations</a> (MapServer)</li>,\n",
       " <li><a href=\"/services/rest/services/NTAD/MilitaryBases/MapServer\">NTAD/MilitaryBases</a> (MapServer)</li>,\n",
       " <li><a href=\"/services/rest/services/NTAD/National_Bridge_Inventory/MapServer\">NTAD/National_Bridge_Inventory</a> (MapServer)</li>,\n",
       " <li><a href=\"/services/rest/services/NTAD/National_Highway_Planning_Network/MapServer\">NTAD/National_Highway_Planning_Network</a> (MapServer)</li>,\n",
       " <li><a href=\"/services/rest/services/NTAD/NationalParks/MapServer\">NTAD/NationalParks</a> (MapServer)</li>,\n",
       " <li><a href=\"/services/rest/services/NTAD/Navigable_Waterway_Lines/MapServer\">NTAD/Navigable_Waterway_Lines</a> (MapServer)</li>,\n",
       " <li><a href=\"/services/rest/services/NTAD/Navigable_Waterway_Nodes/MapServer\">NTAD/Navigable_Waterway_Nodes</a> (MapServer)</li>,\n",
       " <li><a href=\"/services/rest/services/NTAD/NonAttainmentArea1HourOzone_1979/MapServer\">NTAD/NonAttainmentArea1HourOzone_1979</a> (MapServer)</li>,\n",
       " <li><a href=\"/services/rest/services/NTAD/NonAttainmentArea1HourOzone_1990/MapServer\">NTAD/NonAttainmentArea1HourOzone_1990</a> (MapServer)</li>,\n",
       " <li><a href=\"/services/rest/services/NTAD/NonAttainmentArea8HourOzone_1997/MapServer\">NTAD/NonAttainmentArea8HourOzone_1997</a> (MapServer)</li>,\n",
       " <li><a href=\"/services/rest/services/NTAD/NonAttainmentArea8HourOzone_2008/MapServer\">NTAD/NonAttainmentArea8HourOzone_2008</a> (MapServer)</li>,\n",
       " <li><a href=\"/services/rest/services/NTAD/NonAttainmentAreaCO1971/MapServer\">NTAD/NonAttainmentAreaCO1971</a> (MapServer)</li>,\n",
       " <li><a href=\"/services/rest/services/NTAD/NonAttainmentAreaCO1990/MapServer\">NTAD/NonAttainmentAreaCO1990</a> (MapServer)</li>,\n",
       " <li><a href=\"/services/rest/services/NTAD/NonAttainmentAreaNO2_1971/MapServer\">NTAD/NonAttainmentAreaNO2_1971</a> (MapServer)</li>,\n",
       " <li><a href=\"/services/rest/services/NTAD/NonAttainmentAreaNO2_1990/MapServer\">NTAD/NonAttainmentAreaNO2_1990</a> (MapServer)</li>,\n",
       " <li><a href=\"/services/rest/services/NTAD/NonAttainmentAreaPB1978/MapServer\">NTAD/NonAttainmentAreaPB1978</a> (MapServer)</li>,\n",
       " <li><a href=\"/services/rest/services/NTAD/NonAttainmentAreaPb_2008/MapServer\">NTAD/NonAttainmentAreaPb_2008</a> (MapServer)</li>,\n",
       " <li><a href=\"/services/rest/services/NTAD/NonAttainmentAreaPM10_1987/MapServer\">NTAD/NonAttainmentAreaPM10_1987</a> (MapServer)</li>,\n",
       " <li><a href=\"/services/rest/services/NTAD/NonAttainmentAreaPM10_1990/MapServer\">NTAD/NonAttainmentAreaPM10_1990</a> (MapServer)</li>,\n",
       " <li><a href=\"/services/rest/services/NTAD/NonAttainmentAreaPM25_2012/MapServer\">NTAD/NonAttainmentAreaPM25_2012</a> (MapServer)</li>,\n",
       " <li><a href=\"/services/rest/services/NTAD/NonAttainmentAreaPM25_24Hr_2006/MapServer\">NTAD/NonAttainmentAreaPM25_24Hr_2006</a> (MapServer)</li>,\n",
       " <li><a href=\"/services/rest/services/NTAD/NonAttainmentAreaPM25_Annual_1997/MapServer\">NTAD/NonAttainmentAreaPM25_Annual_1997</a> (MapServer)</li>,\n",
       " <li><a href=\"/services/rest/services/NTAD/NonAttainmentAreaSO2_1971/MapServer\">NTAD/NonAttainmentAreaSO2_1971</a> (MapServer)</li>,\n",
       " <li><a href=\"/services/rest/services/NTAD/NonAttainmentAreaSO2_1978/MapServer\">NTAD/NonAttainmentAreaSO2_1978</a> (MapServer)</li>,\n",
       " <li><a href=\"/services/rest/services/NTAD/NonAttainmentAreaSO2_2010/MapServer\">NTAD/NonAttainmentAreaSO2_2010</a> (MapServer)</li>,\n",
       " <li><a href=\"/services/rest/services/NTAD/North_American_Rail_Lines/MapServer\">NTAD/North_American_Rail_Lines</a> (MapServer)</li>,\n",
       " <li><a href=\"/services/rest/services/NTAD/North_Americanrail_Nodes/MapServer\">NTAD/North_Americanrail_Nodes</a> (MapServer)</li>,\n",
       " <li><a href=\"/services/rest/services/NTAD/Populated_Places/MapServer\">NTAD/Populated_Places</a> (MapServer)</li>,\n",
       " <li><a href=\"/services/rest/services/NTAD/Ports_Major/MapServer\">NTAD/Ports_Major</a> (MapServer)</li>,\n",
       " <li><a href=\"/services/rest/services/NTAD/Ports/MapServer\">NTAD/Ports</a> (MapServer)</li>,\n",
       " <li><a href=\"/services/rest/services/NTAD/Railroad_Crossings/MapServer\">NTAD/Railroad_Crossings</a> (MapServer)</li>,\n",
       " <li><a href=\"/services/rest/services/NTAD/Railroad_Lines/MapServer\">NTAD/Railroad_Lines</a> (MapServer)</li>,\n",
       " <li><a href=\"/services/rest/services/NTAD/Railroad_Nodes/MapServer\">NTAD/Railroad_Nodes</a> (MapServer)</li>,\n",
       " <li><a href=\"/services/rest/services/NTAD/Runway_Ends/MapServer\">NTAD/Runway_Ends</a> (MapServer)</li>,\n",
       " <li><a href=\"/services/rest/services/NTAD/Runways/MapServer\">NTAD/Runways</a> (MapServer)</li>,\n",
       " <li><a href=\"/services/rest/services/NTAD/States/MapServer\">NTAD/States</a> (MapServer)</li>,\n",
       " <li><a href=\"/services/rest/services/NTAD/Strategic_Ports/MapServer\">NTAD/Strategic_Ports</a> (MapServer)</li>,\n",
       " <li><a href=\"/services/rest/services/NTAD/Transit_Network/MapServer\">NTAD/Transit_Network</a> (MapServer)</li>,\n",
       " <li><a href=\"/services/rest/services/NTAD/Transit_Stations/MapServer\">NTAD/Transit_Stations</a> (MapServer)</li>,\n",
       " <li><a href=\"/services/rest/services/NTAD/Travel_Monitoring_Analysis_System/MapServer\">NTAD/Travel_Monitoring_Analysis_System</a> (MapServer)</li>,\n",
       " <li><a href=\"/services/rest/services/NTAD/Truck_Stop_Parking/MapServer\">NTAD/Truck_Stop_Parking</a> (MapServer)</li>,\n",
       " <li><a href=\"/services/rest/services/NTAD/Urbanized_Areas/MapServer\">NTAD/Urbanized_Areas</a> (MapServer)</li>]"
      ]
     },
     "execution_count": 42,
     "metadata": {},
     "output_type": "execute_result"
    }
   ],
   "source": [
    "soup.find_all('li')"
   ]
  },
  {
   "cell_type": "code",
   "execution_count": 43,
   "metadata": {},
   "outputs": [
    {
     "ename": "KeyError",
     "evalue": "0",
     "output_type": "error",
     "traceback": [
      "\u001b[1;31m---------------------------------------------------------------------------\u001b[0m",
      "\u001b[1;31mKeyError\u001b[0m                                  Traceback (most recent call last)",
      "\u001b[1;32m<ipython-input-43-7cd49a539a18>\u001b[0m in \u001b[0;36m<module>\u001b[1;34m()\u001b[0m\n\u001b[0;32m      1\u001b[0m \u001b[1;32mfor\u001b[0m \u001b[0mli\u001b[0m \u001b[1;32min\u001b[0m \u001b[0msoup\u001b[0m\u001b[1;33m.\u001b[0m\u001b[0mfind_all\u001b[0m\u001b[1;33m(\u001b[0m\u001b[1;34m'li'\u001b[0m\u001b[1;33m)\u001b[0m\u001b[1;33m:\u001b[0m\u001b[1;33m\u001b[0m\u001b[0m\n\u001b[1;32m----> 2\u001b[1;33m     \u001b[0mprint\u001b[0m\u001b[1;33m(\u001b[0m\u001b[0mli\u001b[0m\u001b[1;33m[\u001b[0m\u001b[1;36m0\u001b[0m\u001b[1;33m]\u001b[0m\u001b[1;33m.\u001b[0m\u001b[0mattrs\u001b[0m\u001b[1;33m[\u001b[0m\u001b[1;34m'href'\u001b[0m\u001b[1;33m]\u001b[0m\u001b[1;33m)\u001b[0m\u001b[1;33m\u001b[0m\u001b[0m\n\u001b[0m",
      "\u001b[1;32mC:\\ProgramData\\Anaconda3\\lib\\site-packages\\bs4\\element.py\u001b[0m in \u001b[0;36m__getitem__\u001b[1;34m(self, key)\u001b[0m\n\u001b[0;32m   1009\u001b[0m         \"\"\"tag[key] returns the value of the 'key' attribute for the tag,\n\u001b[0;32m   1010\u001b[0m         and throws an exception if it's not there.\"\"\"\n\u001b[1;32m-> 1011\u001b[1;33m         \u001b[1;32mreturn\u001b[0m \u001b[0mself\u001b[0m\u001b[1;33m.\u001b[0m\u001b[0mattrs\u001b[0m\u001b[1;33m[\u001b[0m\u001b[0mkey\u001b[0m\u001b[1;33m]\u001b[0m\u001b[1;33m\u001b[0m\u001b[0m\n\u001b[0m\u001b[0;32m   1012\u001b[0m \u001b[1;33m\u001b[0m\u001b[0m\n\u001b[0;32m   1013\u001b[0m     \u001b[1;32mdef\u001b[0m \u001b[0m__iter__\u001b[0m\u001b[1;33m(\u001b[0m\u001b[0mself\u001b[0m\u001b[1;33m)\u001b[0m\u001b[1;33m:\u001b[0m\u001b[1;33m\u001b[0m\u001b[0m\n",
      "\u001b[1;31mKeyError\u001b[0m: 0"
     ]
    }
   ],
   "source": [
    "for li in soup.find_all('li'):\n",
    "    print(li[0].attrs['href'])"
   ]
  },
  {
   "cell_type": "code",
   "execution_count": 52,
   "metadata": {},
   "outputs": [
    {
     "data": {
      "text/plain": [
       "[<li><a href=\"/services/rest/services/NTAD/Airports/MapServer\">NTAD/Airports</a> (MapServer)</li>,\n",
       " <li><a href=\"/services/rest/services/NTAD/AlternativeFuelingStations/MapServer\">NTAD/AlternativeFuelingStations</a> (MapServer)</li>,\n",
       " <li><a href=\"/services/rest/services/NTAD/Amtrak_Routes/MapServer\">NTAD/Amtrak_Routes</a> (MapServer)</li>,\n",
       " <li><a href=\"/services/rest/services/NTAD/Amtrak_Stations/MapServer\">NTAD/Amtrak_Stations</a> (MapServer)</li>,\n",
       " <li><a href=\"/services/rest/services/NTAD/Bikeshare/MapServer\">NTAD/Bikeshare</a> (MapServer)</li>,\n",
       " <li><a href=\"/services/rest/services/NTAD/Congressional_Districts/MapServer\">NTAD/Congressional_Districts</a> (MapServer)</li>,\n",
       " <li><a href=\"/services/rest/services/NTAD/CoreBasedStatisticalAreas/MapServer\">NTAD/CoreBasedStatisticalAreas</a> (MapServer)</li>,\n",
       " <li><a href=\"/services/rest/services/NTAD/Counties/MapServer\">NTAD/Counties</a> (MapServer)</li>,\n",
       " <li><a href=\"/services/rest/services/NTAD/Dams/MapServer\">NTAD/Dams</a> (MapServer)</li>,\n",
       " <li><a href=\"/services/rest/services/NTAD/Fatality_Analysis_Reporting_System/MapServer\">NTAD/Fatality_Analysis_Reporting_System</a> (MapServer)</li>,\n",
       " <li><a href=\"/services/rest/services/NTAD/Freight_Analysis_Framework_Network/MapServer\">NTAD/Freight_Analysis_Framework_Network</a> (MapServer)</li>,\n",
       " <li><a href=\"/services/rest/services/NTAD/Freight_Analysis_Framework_Regions/MapServer\">NTAD/Freight_Analysis_Framework_Regions</a> (MapServer)</li>,\n",
       " <li><a href=\"/services/rest/services/NTAD/Highway_Performance_Monitoring_System_Arterial/MapServer\">NTAD/Highway_Performance_Monitoring_System_Arterial</a> (MapServer)</li>,\n",
       " <li><a href=\"/services/rest/services/NTAD/Highway_Performance_Monitoring_System_Freeways/MapServer\">NTAD/Highway_Performance_Monitoring_System_Freeways</a> (MapServer)</li>,\n",
       " <li><a href=\"/services/rest/services/NTAD/Highway_Performance_Monitoring_System_Interstate/MapServer\">NTAD/Highway_Performance_Monitoring_System_Interstate</a> (MapServer)</li>,\n",
       " <li><a href=\"/services/rest/services/NTAD/Highway_Performance_Monitoring_System_Major_Collector/MapServer\">NTAD/Highway_Performance_Monitoring_System_Major_Collector</a> (MapServer)</li>,\n",
       " <li><a href=\"/services/rest/services/NTAD/Highway_Performance_Monitoring_System_Minor_Arterial/MapServer\">NTAD/Highway_Performance_Monitoring_System_Minor_Arterial</a> (MapServer)</li>,\n",
       " <li><a href=\"/services/rest/services/NTAD/Highway_Performance_Monitoring_System_Minor_Collector/MapServer\">NTAD/Highway_Performance_Monitoring_System_Minor_Collector</a> (MapServer)</li>,\n",
       " <li><a href=\"/services/rest/services/NTAD/Highway_Performance_Monitoring_System/MapServer\">NTAD/Highway_Performance_Monitoring_System</a> (MapServer)</li>,\n",
       " <li><a href=\"/services/rest/services/NTAD/Intermodal_Passenger_Connectivity_Database_IPCD/MapServer\">NTAD/Intermodal_Passenger_Connectivity_Database_IPCD</a> (MapServer)</li>,\n",
       " <li><a href=\"/services/rest/services/NTAD/Intermodal_Transit_Facilities_IPCD/MapServer\">NTAD/Intermodal_Transit_Facilities_IPCD</a> (MapServer)</li>,\n",
       " <li><a href=\"/services/rest/services/NTAD/IntermodalFreightFacilities/MapServer\">NTAD/IntermodalFreightFacilities</a> (MapServer)</li>,\n",
       " <li><a href=\"/services/rest/services/NTAD/Locks/MapServer\">NTAD/Locks</a> (MapServer)</li>,\n",
       " <li><a href=\"/services/rest/services/NTAD/Marine_Highways/MapServer\">NTAD/Marine_Highways</a> (MapServer)</li>,\n",
       " <li><a href=\"/services/rest/services/NTAD/MetropolitanPlanningOrganizations/MapServer\">NTAD/MetropolitanPlanningOrganizations</a> (MapServer)</li>,\n",
       " <li><a href=\"/services/rest/services/NTAD/MilitaryBases/MapServer\">NTAD/MilitaryBases</a> (MapServer)</li>,\n",
       " <li><a href=\"/services/rest/services/NTAD/National_Bridge_Inventory/MapServer\">NTAD/National_Bridge_Inventory</a> (MapServer)</li>,\n",
       " <li><a href=\"/services/rest/services/NTAD/National_Highway_Planning_Network/MapServer\">NTAD/National_Highway_Planning_Network</a> (MapServer)</li>,\n",
       " <li><a href=\"/services/rest/services/NTAD/NationalParks/MapServer\">NTAD/NationalParks</a> (MapServer)</li>,\n",
       " <li><a href=\"/services/rest/services/NTAD/Navigable_Waterway_Lines/MapServer\">NTAD/Navigable_Waterway_Lines</a> (MapServer)</li>,\n",
       " <li><a href=\"/services/rest/services/NTAD/Navigable_Waterway_Nodes/MapServer\">NTAD/Navigable_Waterway_Nodes</a> (MapServer)</li>,\n",
       " <li><a href=\"/services/rest/services/NTAD/NonAttainmentArea1HourOzone_1979/MapServer\">NTAD/NonAttainmentArea1HourOzone_1979</a> (MapServer)</li>,\n",
       " <li><a href=\"/services/rest/services/NTAD/NonAttainmentArea1HourOzone_1990/MapServer\">NTAD/NonAttainmentArea1HourOzone_1990</a> (MapServer)</li>,\n",
       " <li><a href=\"/services/rest/services/NTAD/NonAttainmentArea8HourOzone_1997/MapServer\">NTAD/NonAttainmentArea8HourOzone_1997</a> (MapServer)</li>,\n",
       " <li><a href=\"/services/rest/services/NTAD/NonAttainmentArea8HourOzone_2008/MapServer\">NTAD/NonAttainmentArea8HourOzone_2008</a> (MapServer)</li>,\n",
       " <li><a href=\"/services/rest/services/NTAD/NonAttainmentAreaCO1971/MapServer\">NTAD/NonAttainmentAreaCO1971</a> (MapServer)</li>,\n",
       " <li><a href=\"/services/rest/services/NTAD/NonAttainmentAreaCO1990/MapServer\">NTAD/NonAttainmentAreaCO1990</a> (MapServer)</li>,\n",
       " <li><a href=\"/services/rest/services/NTAD/NonAttainmentAreaNO2_1971/MapServer\">NTAD/NonAttainmentAreaNO2_1971</a> (MapServer)</li>,\n",
       " <li><a href=\"/services/rest/services/NTAD/NonAttainmentAreaNO2_1990/MapServer\">NTAD/NonAttainmentAreaNO2_1990</a> (MapServer)</li>,\n",
       " <li><a href=\"/services/rest/services/NTAD/NonAttainmentAreaPB1978/MapServer\">NTAD/NonAttainmentAreaPB1978</a> (MapServer)</li>,\n",
       " <li><a href=\"/services/rest/services/NTAD/NonAttainmentAreaPb_2008/MapServer\">NTAD/NonAttainmentAreaPb_2008</a> (MapServer)</li>,\n",
       " <li><a href=\"/services/rest/services/NTAD/NonAttainmentAreaPM10_1987/MapServer\">NTAD/NonAttainmentAreaPM10_1987</a> (MapServer)</li>,\n",
       " <li><a href=\"/services/rest/services/NTAD/NonAttainmentAreaPM10_1990/MapServer\">NTAD/NonAttainmentAreaPM10_1990</a> (MapServer)</li>,\n",
       " <li><a href=\"/services/rest/services/NTAD/NonAttainmentAreaPM25_2012/MapServer\">NTAD/NonAttainmentAreaPM25_2012</a> (MapServer)</li>,\n",
       " <li><a href=\"/services/rest/services/NTAD/NonAttainmentAreaPM25_24Hr_2006/MapServer\">NTAD/NonAttainmentAreaPM25_24Hr_2006</a> (MapServer)</li>,\n",
       " <li><a href=\"/services/rest/services/NTAD/NonAttainmentAreaPM25_Annual_1997/MapServer\">NTAD/NonAttainmentAreaPM25_Annual_1997</a> (MapServer)</li>,\n",
       " <li><a href=\"/services/rest/services/NTAD/NonAttainmentAreaSO2_1971/MapServer\">NTAD/NonAttainmentAreaSO2_1971</a> (MapServer)</li>,\n",
       " <li><a href=\"/services/rest/services/NTAD/NonAttainmentAreaSO2_1978/MapServer\">NTAD/NonAttainmentAreaSO2_1978</a> (MapServer)</li>,\n",
       " <li><a href=\"/services/rest/services/NTAD/NonAttainmentAreaSO2_2010/MapServer\">NTAD/NonAttainmentAreaSO2_2010</a> (MapServer)</li>,\n",
       " <li><a href=\"/services/rest/services/NTAD/North_American_Rail_Lines/MapServer\">NTAD/North_American_Rail_Lines</a> (MapServer)</li>,\n",
       " <li><a href=\"/services/rest/services/NTAD/North_Americanrail_Nodes/MapServer\">NTAD/North_Americanrail_Nodes</a> (MapServer)</li>,\n",
       " <li><a href=\"/services/rest/services/NTAD/Populated_Places/MapServer\">NTAD/Populated_Places</a> (MapServer)</li>,\n",
       " <li><a href=\"/services/rest/services/NTAD/Ports_Major/MapServer\">NTAD/Ports_Major</a> (MapServer)</li>,\n",
       " <li><a href=\"/services/rest/services/NTAD/Ports/MapServer\">NTAD/Ports</a> (MapServer)</li>,\n",
       " <li><a href=\"/services/rest/services/NTAD/Railroad_Crossings/MapServer\">NTAD/Railroad_Crossings</a> (MapServer)</li>,\n",
       " <li><a href=\"/services/rest/services/NTAD/Railroad_Lines/MapServer\">NTAD/Railroad_Lines</a> (MapServer)</li>,\n",
       " <li><a href=\"/services/rest/services/NTAD/Railroad_Nodes/MapServer\">NTAD/Railroad_Nodes</a> (MapServer)</li>,\n",
       " <li><a href=\"/services/rest/services/NTAD/Runway_Ends/MapServer\">NTAD/Runway_Ends</a> (MapServer)</li>,\n",
       " <li><a href=\"/services/rest/services/NTAD/Runways/MapServer\">NTAD/Runways</a> (MapServer)</li>,\n",
       " <li><a href=\"/services/rest/services/NTAD/States/MapServer\">NTAD/States</a> (MapServer)</li>,\n",
       " <li><a href=\"/services/rest/services/NTAD/Strategic_Ports/MapServer\">NTAD/Strategic_Ports</a> (MapServer)</li>,\n",
       " <li><a href=\"/services/rest/services/NTAD/Transit_Network/MapServer\">NTAD/Transit_Network</a> (MapServer)</li>,\n",
       " <li><a href=\"/services/rest/services/NTAD/Transit_Stations/MapServer\">NTAD/Transit_Stations</a> (MapServer)</li>,\n",
       " <li><a href=\"/services/rest/services/NTAD/Travel_Monitoring_Analysis_System/MapServer\">NTAD/Travel_Monitoring_Analysis_System</a> (MapServer)</li>,\n",
       " <li><a href=\"/services/rest/services/NTAD/Truck_Stop_Parking/MapServer\">NTAD/Truck_Stop_Parking</a> (MapServer)</li>,\n",
       " <li><a href=\"/services/rest/services/NTAD/Urbanized_Areas/MapServer\">NTAD/Urbanized_Areas</a> (MapServer)</li>]"
      ]
     },
     "execution_count": 52,
     "metadata": {},
     "output_type": "execute_result"
    }
   ],
   "source": [
    "tags = soup.find_all('li')\n",
    "tags"
   ]
  },
  {
   "cell_type": "code",
   "execution_count": 53,
   "metadata": {},
   "outputs": [
    {
     "data": {
      "text/plain": [
       "bs4.element.ResultSet"
      ]
     },
     "execution_count": 53,
     "metadata": {},
     "output_type": "execute_result"
    }
   ],
   "source": [
    "type(tags)"
   ]
  },
  {
   "cell_type": "code",
   "execution_count": 67,
   "metadata": {},
   "outputs": [
    {
     "name": "stdout",
     "output_type": "stream",
     "text": [
      "NTAD/Airports (MapServer)\n",
      "NTAD/AlternativeFuelingStations (MapServer)\n",
      "NTAD/Amtrak_Routes (MapServer)\n",
      "NTAD/Amtrak_Stations (MapServer)\n",
      "NTAD/Bikeshare (MapServer)\n",
      "NTAD/Congressional_Districts (MapServer)\n",
      "NTAD/CoreBasedStatisticalAreas (MapServer)\n",
      "NTAD/Counties (MapServer)\n",
      "NTAD/Dams (MapServer)\n",
      "NTAD/Fatality_Analysis_Reporting_System (MapServer)\n",
      "NTAD/Freight_Analysis_Framework_Network (MapServer)\n",
      "NTAD/Freight_Analysis_Framework_Regions (MapServer)\n",
      "NTAD/Highway_Performance_Monitoring_System_Arterial (MapServer)\n",
      "NTAD/Highway_Performance_Monitoring_System_Freeways (MapServer)\n",
      "NTAD/Highway_Performance_Monitoring_System_Interstate (MapServer)\n",
      "NTAD/Highway_Performance_Monitoring_System_Major_Collector (MapServer)\n",
      "NTAD/Highway_Performance_Monitoring_System_Minor_Arterial (MapServer)\n",
      "NTAD/Highway_Performance_Monitoring_System_Minor_Collector (MapServer)\n",
      "NTAD/Highway_Performance_Monitoring_System (MapServer)\n",
      "NTAD/Intermodal_Passenger_Connectivity_Database_IPCD (MapServer)\n",
      "NTAD/Intermodal_Transit_Facilities_IPCD (MapServer)\n",
      "NTAD/IntermodalFreightFacilities (MapServer)\n",
      "NTAD/Locks (MapServer)\n",
      "NTAD/Marine_Highways (MapServer)\n",
      "NTAD/MetropolitanPlanningOrganizations (MapServer)\n",
      "NTAD/MilitaryBases (MapServer)\n",
      "NTAD/National_Bridge_Inventory (MapServer)\n",
      "NTAD/National_Highway_Planning_Network (MapServer)\n",
      "NTAD/NationalParks (MapServer)\n",
      "NTAD/Navigable_Waterway_Lines (MapServer)\n",
      "NTAD/Navigable_Waterway_Nodes (MapServer)\n",
      "NTAD/NonAttainmentArea1HourOzone_1979 (MapServer)\n",
      "NTAD/NonAttainmentArea1HourOzone_1990 (MapServer)\n",
      "NTAD/NonAttainmentArea8HourOzone_1997 (MapServer)\n",
      "NTAD/NonAttainmentArea8HourOzone_2008 (MapServer)\n",
      "NTAD/NonAttainmentAreaCO1971 (MapServer)\n",
      "NTAD/NonAttainmentAreaCO1990 (MapServer)\n",
      "NTAD/NonAttainmentAreaNO2_1971 (MapServer)\n",
      "NTAD/NonAttainmentAreaNO2_1990 (MapServer)\n",
      "NTAD/NonAttainmentAreaPB1978 (MapServer)\n",
      "NTAD/NonAttainmentAreaPb_2008 (MapServer)\n",
      "NTAD/NonAttainmentAreaPM10_1987 (MapServer)\n",
      "NTAD/NonAttainmentAreaPM10_1990 (MapServer)\n",
      "NTAD/NonAttainmentAreaPM25_2012 (MapServer)\n",
      "NTAD/NonAttainmentAreaPM25_24Hr_2006 (MapServer)\n",
      "NTAD/NonAttainmentAreaPM25_Annual_1997 (MapServer)\n",
      "NTAD/NonAttainmentAreaSO2_1971 (MapServer)\n",
      "NTAD/NonAttainmentAreaSO2_1978 (MapServer)\n",
      "NTAD/NonAttainmentAreaSO2_2010 (MapServer)\n",
      "NTAD/North_American_Rail_Lines (MapServer)\n",
      "NTAD/North_Americanrail_Nodes (MapServer)\n",
      "NTAD/Populated_Places (MapServer)\n",
      "NTAD/Ports_Major (MapServer)\n",
      "NTAD/Ports (MapServer)\n",
      "NTAD/Railroad_Crossings (MapServer)\n",
      "NTAD/Railroad_Lines (MapServer)\n",
      "NTAD/Railroad_Nodes (MapServer)\n",
      "NTAD/Runway_Ends (MapServer)\n",
      "NTAD/Runways (MapServer)\n",
      "NTAD/States (MapServer)\n",
      "NTAD/Strategic_Ports (MapServer)\n",
      "NTAD/Transit_Network (MapServer)\n",
      "NTAD/Transit_Stations (MapServer)\n",
      "NTAD/Travel_Monitoring_Analysis_System (MapServer)\n",
      "NTAD/Truck_Stop_Parking (MapServer)\n",
      "NTAD/Urbanized_Areas (MapServer)\n"
     ]
    }
   ],
   "source": [
    "for t in tags:\n",
    "    print(t.text)"
   ]
  },
  {
   "cell_type": "code",
   "execution_count": 41,
   "metadata": {
    "scrolled": true
   },
   "outputs": [
    {
     "data": {
      "text/plain": [
       "['https://maps.bts.dot.gov/services/rest/services/NTADhttps://maps.bts.dot.gov/services/login?returnUrl=https://maps.bts.dot.gov/services/rest/services',\n",
       " 'https://maps.bts.dot.gov/services/rest/services/NTAD/services/rest/services',\n",
       " 'https://maps.bts.dot.gov/services/rest/services/NTAD/services/rest/services',\n",
       " 'https://maps.bts.dot.gov/services/rest/services/NTAD/services/rest/services/NTAD',\n",
       " 'https://maps.bts.dot.gov/services/rest/services/NTADhttps://maps.bts.dot.gov/services/sdk/rest/02ss/02ss00000057000000.htm',\n",
       " 'https://maps.bts.dot.gov/services/rest/services/NTADhttps://maps.bts.dot.gov/services/rest/services/NTAD?f=help',\n",
       " 'https://maps.bts.dot.gov/services/rest/services/NTAD?f=pjson',\n",
       " 'https://maps.bts.dot.gov/services/rest/services/NTADhttps://maps.bts.dot.gov/services/services/NTAD?wsdl',\n",
       " 'https://maps.bts.dot.gov/services/rest/services/NTADhttp://www.arcgis.com/home/webmap/viewer.html?featurecollection=https%3A%2F%2Fmaps.bts.dot.gov%2Fservices%2Frest%2Fservices%2FNTAD%3Ff%3Djson%26option%3Dfootprints&supportsProjection=true&supportsJSONP=true',\n",
       " 'https://maps.bts.dot.gov/services/rest/services/NTAD/services/rest/services/NTAD/Airports/MapServer',\n",
       " 'https://maps.bts.dot.gov/services/rest/services/NTAD/services/rest/services/NTAD/AlternativeFuelingStations/MapServer',\n",
       " 'https://maps.bts.dot.gov/services/rest/services/NTAD/services/rest/services/NTAD/Amtrak_Routes/MapServer',\n",
       " 'https://maps.bts.dot.gov/services/rest/services/NTAD/services/rest/services/NTAD/Amtrak_Stations/MapServer',\n",
       " 'https://maps.bts.dot.gov/services/rest/services/NTAD/services/rest/services/NTAD/Bikeshare/MapServer',\n",
       " 'https://maps.bts.dot.gov/services/rest/services/NTAD/services/rest/services/NTAD/Congressional_Districts/MapServer',\n",
       " 'https://maps.bts.dot.gov/services/rest/services/NTAD/services/rest/services/NTAD/CoreBasedStatisticalAreas/MapServer',\n",
       " 'https://maps.bts.dot.gov/services/rest/services/NTAD/services/rest/services/NTAD/Counties/MapServer',\n",
       " 'https://maps.bts.dot.gov/services/rest/services/NTAD/services/rest/services/NTAD/Dams/MapServer',\n",
       " 'https://maps.bts.dot.gov/services/rest/services/NTAD/services/rest/services/NTAD/Fatality_Analysis_Reporting_System/MapServer',\n",
       " 'https://maps.bts.dot.gov/services/rest/services/NTAD/services/rest/services/NTAD/Freight_Analysis_Framework_Network/MapServer',\n",
       " 'https://maps.bts.dot.gov/services/rest/services/NTAD/services/rest/services/NTAD/Freight_Analysis_Framework_Regions/MapServer',\n",
       " 'https://maps.bts.dot.gov/services/rest/services/NTAD/services/rest/services/NTAD/Highway_Performance_Monitoring_System_Arterial/MapServer',\n",
       " 'https://maps.bts.dot.gov/services/rest/services/NTAD/services/rest/services/NTAD/Highway_Performance_Monitoring_System_Freeways/MapServer',\n",
       " 'https://maps.bts.dot.gov/services/rest/services/NTAD/services/rest/services/NTAD/Highway_Performance_Monitoring_System_Interstate/MapServer',\n",
       " 'https://maps.bts.dot.gov/services/rest/services/NTAD/services/rest/services/NTAD/Highway_Performance_Monitoring_System_Major_Collector/MapServer',\n",
       " 'https://maps.bts.dot.gov/services/rest/services/NTAD/services/rest/services/NTAD/Highway_Performance_Monitoring_System_Minor_Arterial/MapServer',\n",
       " 'https://maps.bts.dot.gov/services/rest/services/NTAD/services/rest/services/NTAD/Highway_Performance_Monitoring_System_Minor_Collector/MapServer',\n",
       " 'https://maps.bts.dot.gov/services/rest/services/NTAD/services/rest/services/NTAD/Highway_Performance_Monitoring_System/MapServer',\n",
       " 'https://maps.bts.dot.gov/services/rest/services/NTAD/services/rest/services/NTAD/Intermodal_Passenger_Connectivity_Database_IPCD/MapServer',\n",
       " 'https://maps.bts.dot.gov/services/rest/services/NTAD/services/rest/services/NTAD/Intermodal_Transit_Facilities_IPCD/MapServer',\n",
       " 'https://maps.bts.dot.gov/services/rest/services/NTAD/services/rest/services/NTAD/IntermodalFreightFacilities/MapServer',\n",
       " 'https://maps.bts.dot.gov/services/rest/services/NTAD/services/rest/services/NTAD/Locks/MapServer',\n",
       " 'https://maps.bts.dot.gov/services/rest/services/NTAD/services/rest/services/NTAD/Marine_Highways/MapServer',\n",
       " 'https://maps.bts.dot.gov/services/rest/services/NTAD/services/rest/services/NTAD/MetropolitanPlanningOrganizations/MapServer',\n",
       " 'https://maps.bts.dot.gov/services/rest/services/NTAD/services/rest/services/NTAD/MilitaryBases/MapServer',\n",
       " 'https://maps.bts.dot.gov/services/rest/services/NTAD/services/rest/services/NTAD/National_Bridge_Inventory/MapServer',\n",
       " 'https://maps.bts.dot.gov/services/rest/services/NTAD/services/rest/services/NTAD/National_Highway_Planning_Network/MapServer',\n",
       " 'https://maps.bts.dot.gov/services/rest/services/NTAD/services/rest/services/NTAD/NationalParks/MapServer',\n",
       " 'https://maps.bts.dot.gov/services/rest/services/NTAD/services/rest/services/NTAD/Navigable_Waterway_Lines/MapServer',\n",
       " 'https://maps.bts.dot.gov/services/rest/services/NTAD/services/rest/services/NTAD/Navigable_Waterway_Nodes/MapServer',\n",
       " 'https://maps.bts.dot.gov/services/rest/services/NTAD/services/rest/services/NTAD/NonAttainmentArea1HourOzone_1979/MapServer',\n",
       " 'https://maps.bts.dot.gov/services/rest/services/NTAD/services/rest/services/NTAD/NonAttainmentArea1HourOzone_1990/MapServer',\n",
       " 'https://maps.bts.dot.gov/services/rest/services/NTAD/services/rest/services/NTAD/NonAttainmentArea8HourOzone_1997/MapServer',\n",
       " 'https://maps.bts.dot.gov/services/rest/services/NTAD/services/rest/services/NTAD/NonAttainmentArea8HourOzone_2008/MapServer',\n",
       " 'https://maps.bts.dot.gov/services/rest/services/NTAD/services/rest/services/NTAD/NonAttainmentAreaCO1971/MapServer',\n",
       " 'https://maps.bts.dot.gov/services/rest/services/NTAD/services/rest/services/NTAD/NonAttainmentAreaCO1990/MapServer',\n",
       " 'https://maps.bts.dot.gov/services/rest/services/NTAD/services/rest/services/NTAD/NonAttainmentAreaNO2_1971/MapServer',\n",
       " 'https://maps.bts.dot.gov/services/rest/services/NTAD/services/rest/services/NTAD/NonAttainmentAreaNO2_1990/MapServer',\n",
       " 'https://maps.bts.dot.gov/services/rest/services/NTAD/services/rest/services/NTAD/NonAttainmentAreaPB1978/MapServer',\n",
       " 'https://maps.bts.dot.gov/services/rest/services/NTAD/services/rest/services/NTAD/NonAttainmentAreaPb_2008/MapServer',\n",
       " 'https://maps.bts.dot.gov/services/rest/services/NTAD/services/rest/services/NTAD/NonAttainmentAreaPM10_1987/MapServer',\n",
       " 'https://maps.bts.dot.gov/services/rest/services/NTAD/services/rest/services/NTAD/NonAttainmentAreaPM10_1990/MapServer',\n",
       " 'https://maps.bts.dot.gov/services/rest/services/NTAD/services/rest/services/NTAD/NonAttainmentAreaPM25_2012/MapServer',\n",
       " 'https://maps.bts.dot.gov/services/rest/services/NTAD/services/rest/services/NTAD/NonAttainmentAreaPM25_24Hr_2006/MapServer',\n",
       " 'https://maps.bts.dot.gov/services/rest/services/NTAD/services/rest/services/NTAD/NonAttainmentAreaPM25_Annual_1997/MapServer',\n",
       " 'https://maps.bts.dot.gov/services/rest/services/NTAD/services/rest/services/NTAD/NonAttainmentAreaSO2_1971/MapServer',\n",
       " 'https://maps.bts.dot.gov/services/rest/services/NTAD/services/rest/services/NTAD/NonAttainmentAreaSO2_1978/MapServer',\n",
       " 'https://maps.bts.dot.gov/services/rest/services/NTAD/services/rest/services/NTAD/NonAttainmentAreaSO2_2010/MapServer',\n",
       " 'https://maps.bts.dot.gov/services/rest/services/NTAD/services/rest/services/NTAD/North_American_Rail_Lines/MapServer',\n",
       " 'https://maps.bts.dot.gov/services/rest/services/NTAD/services/rest/services/NTAD/North_Americanrail_Nodes/MapServer',\n",
       " 'https://maps.bts.dot.gov/services/rest/services/NTAD/services/rest/services/NTAD/Populated_Places/MapServer',\n",
       " 'https://maps.bts.dot.gov/services/rest/services/NTAD/services/rest/services/NTAD/Ports_Major/MapServer',\n",
       " 'https://maps.bts.dot.gov/services/rest/services/NTAD/services/rest/services/NTAD/Ports/MapServer',\n",
       " 'https://maps.bts.dot.gov/services/rest/services/NTAD/services/rest/services/NTAD/Railroad_Crossings/MapServer',\n",
       " 'https://maps.bts.dot.gov/services/rest/services/NTAD/services/rest/services/NTAD/Railroad_Lines/MapServer',\n",
       " 'https://maps.bts.dot.gov/services/rest/services/NTAD/services/rest/services/NTAD/Railroad_Nodes/MapServer',\n",
       " 'https://maps.bts.dot.gov/services/rest/services/NTAD/services/rest/services/NTAD/Runway_Ends/MapServer',\n",
       " 'https://maps.bts.dot.gov/services/rest/services/NTAD/services/rest/services/NTAD/Runways/MapServer',\n",
       " 'https://maps.bts.dot.gov/services/rest/services/NTAD/services/rest/services/NTAD/States/MapServer',\n",
       " 'https://maps.bts.dot.gov/services/rest/services/NTAD/services/rest/services/NTAD/Strategic_Ports/MapServer',\n",
       " 'https://maps.bts.dot.gov/services/rest/services/NTAD/services/rest/services/NTAD/Transit_Network/MapServer',\n",
       " 'https://maps.bts.dot.gov/services/rest/services/NTAD/services/rest/services/NTAD/Transit_Stations/MapServer',\n",
       " 'https://maps.bts.dot.gov/services/rest/services/NTAD/services/rest/services/NTAD/Travel_Monitoring_Analysis_System/MapServer',\n",
       " 'https://maps.bts.dot.gov/services/rest/services/NTAD/services/rest/services/NTAD/Truck_Stop_Parking/MapServer',\n",
       " 'https://maps.bts.dot.gov/services/rest/services/NTAD/services/rest/services/NTAD/Urbanized_Areas/MapServer',\n",
       " 'https://maps.bts.dot.gov/services/rest/services/NTADhttps://maps.bts.dot.gov/services/rest/services/NTAD?f=pjson',\n",
       " 'https://maps.bts.dot.gov/services/rest/services/NTADhttps://maps.bts.dot.gov/services/services?wsdl',\n",
       " 'https://maps.bts.dot.gov/services/rest/services/NTADhttps://maps.bts.dot.gov/services/rest/services/NTAD?f=sitemap',\n",
       " 'https://maps.bts.dot.gov/services/rest/services/NTADhttps://maps.bts.dot.gov/services/rest/services/NTAD?f=geositemap']"
      ]
     },
     "execution_count": 41,
     "metadata": {},
     "output_type": "execute_result"
    }
   ],
   "source": [
    "build_services_list_from_rest_endpoint(rest_endpoint_a)"
   ]
  },
  {
   "cell_type": "code",
   "execution_count": null,
   "metadata": {},
   "outputs": [],
   "source": []
  }
 ],
 "metadata": {
  "kernelspec": {
   "display_name": "Python 3",
   "language": "python",
   "name": "python3"
  },
  "language_info": {
   "codemirror_mode": {
    "name": "ipython",
    "version": 3
   },
   "file_extension": ".py",
   "mimetype": "text/x-python",
   "name": "python",
   "nbconvert_exporter": "python",
   "pygments_lexer": "ipython3",
   "version": "3.6.6"
  }
 },
 "nbformat": 4,
 "nbformat_minor": 2
}
